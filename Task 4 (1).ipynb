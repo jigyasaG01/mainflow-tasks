{
 "cells": [
  {
   "cell_type": "code",
   "execution_count": 3,
   "id": "dffd8368-0b0f-422f-89f2-e0bbcf00e20b",
   "metadata": {},
   "outputs": [
    {
     "name": "stdout",
     "output_type": "stream",
     "text": [
      "    Size  Location  Number of Rooms   Price\n",
      "0   1360     rural                1  183127\n",
      "1   4272     rural                9  511492\n",
      "2   3592  suburban                6  558690\n",
      "3    966  suburban                3  202414\n",
      "4   4926     urban                4  861712\n",
      "..   ...       ...              ...     ...\n",
      "95  1528  suburban                9  325535\n",
      "96  1002  suburban                5  271338\n",
      "97  4993  suburban                8  735535\n",
      "98  1370     rural                1  152535\n",
      "99  4988     rural                5  522426\n",
      "\n",
      "[100 rows x 4 columns]\n"
     ]
    }
   ],
   "source": [
    "# TASK 2\n",
    "# (1) Load and Explore\n",
    "# Inspection of the Dataset\n",
    "import pandas as pd\n",
    "import matplotlib.pyplot as plt\n",
    "df = pd.read_csv(\"C:/Users/gupta/Downloads/house_price.csv\")\n",
    "print(df)"
   ]
  },
  {
   "cell_type": "code",
   "execution_count": 5,
   "id": "55ff61b5-0288-41d9-b62b-5b86e8974625",
   "metadata": {},
   "outputs": [
    {
     "name": "stdout",
     "output_type": "stream",
     "text": [
      "Requirement already satisfied: scikit-learn in c:\\users\\gupta\\anaconda3\\lib\\site-packages (1.5.1)\n",
      "Requirement already satisfied: numpy>=1.19.5 in c:\\users\\gupta\\anaconda3\\lib\\site-packages (from scikit-learn) (1.26.4)\n",
      "Requirement already satisfied: scipy>=1.6.0 in c:\\users\\gupta\\anaconda3\\lib\\site-packages (from scikit-learn) (1.13.1)\n",
      "Requirement already satisfied: joblib>=1.2.0 in c:\\users\\gupta\\anaconda3\\lib\\site-packages (from scikit-learn) (1.4.2)\n",
      "Requirement already satisfied: threadpoolctl>=3.1.0 in c:\\users\\gupta\\anaconda3\\lib\\site-packages (from scikit-learn) (3.5.0)\n",
      "Note: you may need to restart the kernel to use updated packages.\n"
     ]
    }
   ],
   "source": [
    "pip install scikit-learn"
   ]
  },
  {
   "cell_type": "code",
   "execution_count": 1,
   "id": "3e64d5ee-2889-460a-8479-40a0b1f3ab76",
   "metadata": {},
   "outputs": [
    {
     "name": "stdout",
     "output_type": "stream",
     "text": [
      "1.5.1\n"
     ]
    }
   ],
   "source": [
    "import sklearn\n",
    "print(sklearn.__version__)"
   ]
  },
  {
   "cell_type": "code",
   "execution_count": 7,
   "id": "5fbe6255-0958-4abb-9f0e-ec3166ee8cc2",
   "metadata": {},
   "outputs": [
    {
     "name": "stdout",
     "output_type": "stream",
     "text": [
      "Min-Max Scaled Data:\n",
      "       Size  Location  Number of Rooms   Price\n",
      "0  0.185243     rural            0.000  183127\n",
      "1  0.838305     rural            1.000  511492\n",
      "2  0.685804  suburban            0.625  558690\n",
      "3  0.096883  suburban            0.250  202414\n",
      "4  0.984974     urban            0.375  861712\n",
      "\n",
      "Standardized Data:\n",
      "       Size  Location  Number of Rooms   Price\n",
      "0 -1.031135     rural        -1.391324  183127\n",
      "1  1.261081     rural         1.625097  511492\n",
      "2  0.725811  suburban         0.493939  558690\n",
      "3 -1.341277  suburban        -0.637219  202414\n",
      "4  1.775885     urban        -0.260166  861712\n"
     ]
    }
   ],
   "source": [
    "# (2) Normalize Numerical Data:\n",
    "\n",
    "from sklearn.preprocessing import MinMaxScaler, StandardScaler\n",
    "import pandas as pd\n",
    "import matplotlib.pyplot as plt\n",
    "df = pd.read_csv(\"C:/Users/gupta/Downloads/house_price.csv\")\n",
    "# Make copies of the original DataFrame\n",
    "min_max_scaled_df = df.copy()\n",
    "standardized_df = df.copy()\n",
    "\n",
    "# Features to scale\n",
    "features_to_scale = ['Size', 'Number of Rooms']\n",
    "\n",
    "# Min-Max Scaling\n",
    "min_max_scaler = MinMaxScaler()\n",
    "min_max_scaled_df[features_to_scale] = min_max_scaler.fit_transform(df[features_to_scale])\n",
    "\n",
    "# Standardization (Z-score)\n",
    "standard_scaler = StandardScaler()\n",
    "standardized_df[features_to_scale] = standard_scaler.fit_transform(df[features_to_scale])\n",
    "print(\"Min-Max Scaled Data:\")\n",
    "print(min_max_scaled_df.head())\n",
    "\n",
    "print(\"\\nStandardized Data:\")\n",
    "print(standardized_df.head())"
   ]
  },
  {
   "cell_type": "code",
   "execution_count": 9,
   "id": "a4673145-0ace-468b-8f7b-5bb5c224187e",
   "metadata": {},
   "outputs": [
    {
     "data": {
      "text/html": [
       "<div>\n",
       "<style scoped>\n",
       "    .dataframe tbody tr th:only-of-type {\n",
       "        vertical-align: middle;\n",
       "    }\n",
       "\n",
       "    .dataframe tbody tr th {\n",
       "        vertical-align: top;\n",
       "    }\n",
       "\n",
       "    .dataframe thead th {\n",
       "        text-align: right;\n",
       "    }\n",
       "</style>\n",
       "<table border=\"1\" class=\"dataframe\">\n",
       "  <thead>\n",
       "    <tr style=\"text-align: right;\">\n",
       "      <th></th>\n",
       "      <th>Size</th>\n",
       "      <th>Number of Rooms</th>\n",
       "      <th>Price</th>\n",
       "      <th>Location_rural</th>\n",
       "      <th>Location_suburban</th>\n",
       "      <th>Location_urban</th>\n",
       "    </tr>\n",
       "  </thead>\n",
       "  <tbody>\n",
       "    <tr>\n",
       "      <th>0</th>\n",
       "      <td>1360</td>\n",
       "      <td>1</td>\n",
       "      <td>183127</td>\n",
       "      <td>1.0</td>\n",
       "      <td>0.0</td>\n",
       "      <td>0.0</td>\n",
       "    </tr>\n",
       "    <tr>\n",
       "      <th>1</th>\n",
       "      <td>4272</td>\n",
       "      <td>9</td>\n",
       "      <td>511492</td>\n",
       "      <td>1.0</td>\n",
       "      <td>0.0</td>\n",
       "      <td>0.0</td>\n",
       "    </tr>\n",
       "    <tr>\n",
       "      <th>2</th>\n",
       "      <td>3592</td>\n",
       "      <td>6</td>\n",
       "      <td>558690</td>\n",
       "      <td>0.0</td>\n",
       "      <td>1.0</td>\n",
       "      <td>0.0</td>\n",
       "    </tr>\n",
       "    <tr>\n",
       "      <th>3</th>\n",
       "      <td>966</td>\n",
       "      <td>3</td>\n",
       "      <td>202414</td>\n",
       "      <td>0.0</td>\n",
       "      <td>1.0</td>\n",
       "      <td>0.0</td>\n",
       "    </tr>\n",
       "    <tr>\n",
       "      <th>4</th>\n",
       "      <td>4926</td>\n",
       "      <td>4</td>\n",
       "      <td>861712</td>\n",
       "      <td>0.0</td>\n",
       "      <td>0.0</td>\n",
       "      <td>1.0</td>\n",
       "    </tr>\n",
       "  </tbody>\n",
       "</table>\n",
       "</div>"
      ],
      "text/plain": [
       "   Size  Number of Rooms   Price  Location_rural  Location_suburban  \\\n",
       "0  1360                1  183127             1.0                0.0   \n",
       "1  4272                9  511492             1.0                0.0   \n",
       "2  3592                6  558690             0.0                1.0   \n",
       "3   966                3  202414             0.0                1.0   \n",
       "4  4926                4  861712             0.0                0.0   \n",
       "\n",
       "   Location_urban  \n",
       "0             0.0  \n",
       "1             0.0  \n",
       "2             0.0  \n",
       "3             0.0  \n",
       "4             1.0  "
      ]
     },
     "execution_count": 9,
     "metadata": {},
     "output_type": "execute_result"
    }
   ],
   "source": [
    "# (3) Encode Categorical Features:\n",
    "# 1. One-Hot Encoding (for non-ordinal categories like urban, suburban, rural):\n",
    "from sklearn.preprocessing import OneHotEncoder\n",
    "\n",
    "one_hot_encoder = OneHotEncoder(sparse_output=False)\n",
    "\n",
    "location_encoded = one_hot_encoder.fit_transform(df[['Location']])\n",
    "\n",
    "encoded_columns = one_hot_encoder.get_feature_names_out(['Location'])\n",
    "location_encoded_df = pd.DataFrame(location_encoded, columns=encoded_columns)\n",
    "\n",
    "# Combine with the rest of the data\n",
    "df_one_hot = pd.concat([df.drop('Location', axis=1), location_encoded_df], axis=1)\n",
    "df_one_hot.head()\n"
   ]
  },
  {
   "cell_type": "code",
   "execution_count": 11,
   "id": "d0b06277-6d64-48f6-848b-9b66e97510eb",
   "metadata": {},
   "outputs": [
    {
     "name": "stdout",
     "output_type": "stream",
     "text": [
      "   Location  Location_Label\n",
      "0     rural               0\n",
      "1     rural               0\n",
      "2  suburban               1\n",
      "3  suburban               1\n",
      "4     urban               2\n"
     ]
    }
   ],
   "source": [
    "# (3) Encode Categorical Features:\n",
    "# 2. Label Encoding (if Location were ordinal):\n",
    "from sklearn.preprocessing import LabelEncoder\n",
    "\n",
    "label_encoder = LabelEncoder()\n",
    "df_label_encoded = df.copy()\n",
    "df_label_encoded['Location_Label'] = label_encoder.fit_transform(df['Location'])\n",
    "print(df_label_encoded[['Location', 'Location_Label']].head())"
   ]
  },
  {
   "cell_type": "code",
   "execution_count": 15,
   "id": "87248b95-e66d-4269-9413-2f0d74f80475",
   "metadata": {},
   "outputs": [
    {
     "name": "stdout",
     "output_type": "stream",
     "text": [
      "Data types before handling categorical variables:\n",
      "<class 'pandas.core.frame.DataFrame'>\n",
      "RangeIndex: 100 entries, 0 to 99\n",
      "Data columns (total 4 columns):\n",
      " #   Column           Non-Null Count  Dtype \n",
      "---  ------           --------------  ----- \n",
      " 0   Size             100 non-null    int64 \n",
      " 1   Location         100 non-null    object\n",
      " 2   Number of Rooms  100 non-null    int64 \n",
      " 3   Price            100 non-null    int64 \n",
      "dtypes: int64(3), object(1)\n",
      "memory usage: 3.3+ KB\n",
      "None\n",
      "\n",
      "Correlations with 'Price' variable after one-hot encoding:\n",
      "Price                1.000000\n",
      "Size                 0.805485\n",
      "Location_urban       0.371568\n",
      "Number of Rooms      0.160887\n",
      "Location_suburban   -0.022048\n",
      "Name: Price, dtype: float64\n",
      "\n",
      "Low-impact predictors (absolute correlation < 0.1):\n",
      "['Location_suburban']\n"
     ]
    }
   ],
   "source": [
    "# TASK 3\n",
    "# Analyze Predictors:\n",
    "# Compute correlation matrix\n",
    "import pandas as pd\n",
    "\n",
    "# Load the dataset\n",
    "df = pd.read_csv(\"C:/Users/gupta/Downloads/house_price.csv\")\n",
    "\n",
    "# Inspect data types\n",
    "print(\"Data types before handling categorical variables:\")\n",
    "print(df.info())\n",
    "\n",
    "# Identify categorical columns\n",
    "categorical_cols = df.select_dtypes(include='object').columns\n",
    "\n",
    "# Apply one-hot encoding to categorical columns\n",
    "df_encoded = pd.get_dummies(df, columns=categorical_cols, drop_first=True)\n",
    "\n",
    "# Calculate the correlation matrix for the encoded DataFrame\n",
    "correlation_matrix = df_encoded.corr()\n",
    "\n",
    "# Get correlations with the 'Price' variable\n",
    "price_correlations = correlation_matrix['Price'].sort_values(ascending=False)\n",
    "\n",
    "# Display the correlations\n",
    "print(\"\\nCorrelations with 'Price' variable after one-hot encoding:\")\n",
    "print(price_correlations)\n",
    "\n",
    "# Identify low-impact predictors (e.g., absolute correlation less than 0.1)\n",
    "low_impact_threshold = 0.1\n",
    "low_impact_predictors = price_correlations[abs(price_correlations) < low_impact_threshold].index.tolist()\n",
    "\n",
    "print(f\"\\nLow-impact predictors (absolute correlation < {low_impact_threshold}):\")\n",
    "print(low_impact_predictors)"
   ]
  },
  {
   "cell_type": "code",
   "execution_count": 17,
   "id": "06269888-4c65-4fb3-8362-fc885fe98970",
   "metadata": {},
   "outputs": [
    {
     "name": "stdout",
     "output_type": "stream",
     "text": [
      "Shape of X_train: (80, 4)\n",
      "Shape of X_test: (20, 4)\n",
      "Shape of y_train: (80,)\n",
      "Shape of y_test: (20,)\n"
     ]
    }
   ],
   "source": [
    "# TASK 4\n",
    "# Model Training\n",
    "# Train-Test Split:\n",
    "import pandas as pd\n",
    "from sklearn.model_selection import train_test_split\n",
    "\n",
    "# Load the dataset\n",
    "df = pd.read_csv(\"C:/Users/gupta/Downloads/house_price.csv\")\n",
    "\n",
    "# Identify categorical columns and apply one-hot encoding\n",
    "categorical_cols = df.select_dtypes(include='object').columns\n",
    "df_encoded = pd.get_dummies(df, columns=categorical_cols, drop_first=True)\n",
    "\n",
    "# Define features (X) and target (y)\n",
    "X = df_encoded.drop('Price', axis=1)\n",
    "y = df_encoded['Price']\n",
    "\n",
    "# Divide the dataset into training and testing sets (80% train, 20% test)\n",
    "# Ensure the split is random but reproducible using random_state\n",
    "X_train, X_test, y_train, y_test = train_test_split(X, y, test_size=0.2, random_state=42)\n",
    "\n",
    "# Display the shapes of the resulting sets\n",
    "print(\"Shape of X_train:\", X_train.shape)\n",
    "print(\"Shape of X_test:\", X_test.shape)\n",
    "print(\"Shape of y_train:\", y_train.shape)\n",
    "print(\"Shape of y_test:\", y_test.shape)\n",
    "\n",
    "# Save the training and testing sets to CSV files\n",
    "X_train.to_csv('X_train.csv', index=False)\n",
    "X_test.to_csv('X_test.csv', index=False)\n",
    "y_train.to_csv('y_train.csv', index=False)\n",
    "y_test.to_csv('y_test.csv', index=False)"
   ]
  },
  {
   "cell_type": "code",
   "execution_count": 19,
   "id": "531a4268-cb2a-47f6-b558-895e648a8e8f",
   "metadata": {},
   "outputs": [
    {
     "name": "stdout",
     "output_type": "stream",
     "text": [
      "Linear Regression model has been successfully fitted to the training data.\n"
     ]
    }
   ],
   "source": [
    "# Train a Linear Regression Model:\n",
    "from sklearn.linear_model import LinearRegression\n",
    "import pandas as pd\n",
    "\n",
    "# Load the training data (assuming they were saved in the previous step)\n",
    "X_train = pd.read_csv('X_train.csv')\n",
    "y_train = pd.read_csv('y_train.csv').squeeze() # Use .squeeze() to convert DataFrame to Series if it's a single column\n",
    "\n",
    "# Initialize the Linear Regression model\n",
    "model = LinearRegression()\n",
    "\n",
    "# Fit the model to the training data\n",
    "model.fit(X_train, y_train)\n",
    "\n",
    "print(\"Linear Regression model has been successfully fitted to the training data.\")"
   ]
  },
  {
   "cell_type": "code",
   "execution_count": 21,
   "id": "3473c583-c1d6-45bf-bc22-474e9441f71a",
   "metadata": {},
   "outputs": [
    {
     "name": "stdout",
     "output_type": "stream",
     "text": [
      "Root Mean Square Error (RMSE): 34338.50\n"
     ]
    }
   ],
   "source": [
    "# TASK 5\n",
    "# Evaluation Metrics:\n",
    "#RMSE\n",
    "from sklearn.metrics import mean_squared_error\n",
    "import numpy as np\n",
    "import pandas as pd\n",
    "from sklearn.linear_model import LinearRegression\n",
    "\n",
    "# Load the training data to re-fit the model (as the model object might not persist across sessions)\n",
    "X_train = pd.read_csv('X_train.csv')\n",
    "y_train = pd.read_csv('y_train.csv').squeeze()\n",
    "\n",
    "# Load the test data\n",
    "X_test = pd.read_csv('X_test.csv')\n",
    "y_test = pd.read_csv('y_test.csv').squeeze()\n",
    "\n",
    "# Initialize and fit the Linear Regression model again (to ensure the model is available for prediction)\n",
    "model = LinearRegression()\n",
    "model.fit(X_train, y_train)\n",
    "\n",
    "# Make predictions on the test set\n",
    "y_pred = model.predict(X_test)\n",
    "\n",
    "# Calculate RMSE\n",
    "rmse = np.sqrt(mean_squared_error(y_test, y_pred))\n",
    "\n",
    "print(f\"Root Mean Square Error (RMSE): {rmse:.2f}\")"
   ]
  },
  {
   "cell_type": "code",
   "execution_count": 23,
   "id": "0846c6e8-e0be-4869-9d87-93a753849d59",
   "metadata": {},
   "outputs": [
    {
     "name": "stdout",
     "output_type": "stream",
     "text": [
      "R-squared (Coefficient of Determination): 0.96\n"
     ]
    }
   ],
   "source": [
    "# R² (Coefficient of Determination) \n",
    "from sklearn.metrics import r2_score\n",
    "import pandas as pd\n",
    "from sklearn.linear_model import LinearRegression\n",
    "\n",
    "# Load the training data to re-fit the model (as the model object might not persist across sessions)\n",
    "X_train = pd.read_csv('X_train.csv')\n",
    "y_train = pd.read_csv('y_train.csv').squeeze()\n",
    "\n",
    "# Load the test data\n",
    "X_test = pd.read_csv('X_test.csv')\n",
    "y_test = pd.read_csv('y_test.csv').squeeze()\n",
    "\n",
    "# Initialize and fit the Linear Regression model again (to ensure the model is available for prediction)\n",
    "model = LinearRegression()\n",
    "model.fit(X_train, y_train)\n",
    "\n",
    "# Make predictions on the test set\n",
    "y_pred = model.predict(X_test)\n",
    "\n",
    "# Calculate R-squared\n",
    "r2 = r2_score(y_test, y_pred)\n",
    "\n",
    "print(f\"R-squared (Coefficient of Determination): {r2:.2f}\")"
   ]
  },
  {
   "cell_type": "code",
   "execution_count": null,
   "id": "85a4545b-b84f-4dca-979f-efa76fbd3981",
   "metadata": {},
   "outputs": [],
   "source": []
  }
 ],
 "metadata": {
  "kernelspec": {
   "display_name": "Python [conda env:base] *",
   "language": "python",
   "name": "conda-base-py"
  },
  "language_info": {
   "codemirror_mode": {
    "name": "ipython",
    "version": 3
   },
   "file_extension": ".py",
   "mimetype": "text/x-python",
   "name": "python",
   "nbconvert_exporter": "python",
   "pygments_lexer": "ipython3",
   "version": "3.12.7"
  }
 },
 "nbformat": 4,
 "nbformat_minor": 5
}
